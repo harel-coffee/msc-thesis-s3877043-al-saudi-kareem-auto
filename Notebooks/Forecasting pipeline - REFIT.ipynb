{
 "cells": [
  {
   "cell_type": "markdown",
   "id": "becoming-money",
   "metadata": {},
   "source": [
    "The following notebook will be split into 4 parts:\n",
    " - [Part 1](#Part1_REFIT): Setup\n",
    " - [Part 2](#Part2_REFIT): Exploratory Data Analysis\n",
    " - [Part 3](#Part3_REFIT): Clustering\n",
    " - [Part 4](#Part4_REFIT): Forecasting\n",
    " \n",
    "**Part 1:** Initial setup (importing relevant packages, setting up global hyperparameters, importing/cleaning our data set).\n",
    "\n",
    "**Part 2:** Exploratory data analysis that serves to act as the feature selection step by determining which features are ir/relevant.\n",
    "\n",
    "**Part 3:** Clustering days based on a similarity metric.\n",
    "\n",
    "**Part 4:** Forecasting on a per-cluster basis."
   ]
  },
  {
   "cell_type": "markdown",
   "id": "interstate-durham",
   "metadata": {
    "heading_collapsed": "true",
    "tags": []
   },
   "source": [
    "# Part 1: Setup <a id=\"Part1_REFIT\"> </a>"
   ]
  },
  {
   "cell_type": "markdown",
   "id": "compact-desperate",
   "metadata": {
    "heading_collapsed": "true",
    "tags": []
   },
   "source": [
    "## 1.1: Initial setup"
   ]
  },
  {
   "cell_type": "markdown",
   "id": "golden-synthesis",
   "metadata": {},
   "source": [
    "**Step 1:** Import the relevant packages and set Seaborn/Matplotlib hyperparameters."
   ]
  },
  {
   "cell_type": "code",
   "execution_count": null,
   "id": "piano-state",
   "metadata": {},
   "outputs": [],
   "source": [
    "import hdbscan\n",
    "import holidays\n",
    "import os\n",
    "import sklearn\n",
    "import umap\n",
    "\n",
    "import matplotlib.dates as md\n",
    "import matplotlib.pyplot as plt\n",
    "import moviepy.editor as mpy\n",
    "import numpy as np\n",
    "import pandas as pd\n",
    "import plotly.io as plt_io\n",
    "import plotly.graph_objects as go\n",
    "import seaborn as sns\n",
    "import statsmodels.api as sm\n",
    "\n",
    "from moviepy.video.io.bindings import mplfig_to_npimage\n",
    "from numpy import linalg\n",
    "from numpy.linalg import norm\n",
    "from scipy import stats\n",
    "from sklearn import metrics\n",
    "from sklearn.decomposition import PCA\n",
    "from sklearn.feature_selection import mutual_info_regression\n",
    "from sklearn.manifold import TSNE\n",
    "from sklearn.manifold._t_sne import _joint_probabilities, _kl_divergence\n",
    "from sklearn.preprocessing import MinMaxScaler, StandardScaler\n",
    "from statsmodels.graphics.tsaplots import plot_acf, plot_pacf\n",
    "from statsmodels.tsa.seasonal import STL\n",
    "from statsmodels.tsa.stattools import adfuller, grangercausalitytests\n",
    "from tqdm import notebook\n",
    "\n",
    "plt.style.use(\"fivethirtyeight\")\n",
    "sns.set(style=\"whitegrid\", palette=\"muted\")\n",
    "\n",
    "plt.rcParams[\"axes.labelsize\"] = 26\n",
    "plt.rcParams[\"axes.titlesize\"] = 26\n",
    "plt.rcParams[\"figure.figsize\"] = 16, 10\n",
    "plt.rcParams[\"figure.dpi\"] = 300\n",
    "plt.rcParams[\"xtick.labelsize\"] = 22\n",
    "plt.rcParams[\"ytick.labelsize\"] = 22\n",
    "\n",
    "np.set_printoptions(suppress=True)\n",
    "pd.options.display.float_format = \"{:.2f}\".format\n",
    "\n",
    "%config Completer.use_jedi = False"
   ]
  },
  {
   "cell_type": "markdown",
   "id": "awful-emperor",
   "metadata": {},
   "source": [
    "**Step 2:** Define the location of our data as well as the relevant columns that we would like to include."
   ]
  },
  {
   "cell_type": "code",
   "execution_count": null,
   "id": "combined-commissioner",
   "metadata": {
    "tags": []
   },
   "outputs": [],
   "source": [
    "house_number = 12\n",
    "\n",
    "cols_REFIT = [\n",
    "    \"Time\",\n",
    "    \"Aggregate\",\n",
    "    \"Appliance1\",\n",
    "    \"Appliance2\",\n",
    "    \"Appliance3\",\n",
    "    \"Appliance4\",\n",
    "    \"Appliance5\",\n",
    "    \"Appliance6\",\n",
    "    \"Appliance7\",\n",
    "    \"Appliance8\",\n",
    "    \"Appliance9\",\n",
    "]\n",
    "\n",
    "data_directory_REFIT = os.path.join(\"Data\", \"REFIT\")\n",
    "data_directory_Solcast = os.path.join(\"Data\", \"Solcast_REFIT\")\n",
    "\n",
    "house = f\"CLEAN_House{house_number}.csv\"\n",
    "solcast_15 = \"Solcast_REFIT_15.csv\"\n",
    "\n",
    "file_destination_REFIT = os.path.join(data_directory_REFIT, house)\n",
    "file_destination_Solcast = os.path.join(data_directory_Solcast, solcast_15)"
   ]
  },
  {
   "cell_type": "markdown",
   "id": "reduced-premises",
   "metadata": {},
   "source": [
    "**Step 3:** Read in the data and save it to a dataframe."
   ]
  },
  {
   "cell_type": "code",
   "execution_count": null,
   "id": "transsexual-neighborhood",
   "metadata": {},
   "outputs": [],
   "source": [
    "df_REFIT = pd.read_csv(file_destination_REFIT, index_col=0, parse_dates=True, usecols=cols_REFIT)\n",
    "df_Solcast = pd.read_csv(file_destination_Solcast, index_col=0, parse_dates=True)\n",
    "\n",
    "df_Solcast.index = df_Solcast.index.rename(\"Time\")\n",
    "df_Solcast.index = pd.to_datetime(df_Solcast.index).tz_localize(None)\n",
    "\n",
    "cols_REFIT.remove(\"Time\")"
   ]
  },
  {
   "cell_type": "markdown",
   "id": "danish-theta",
   "metadata": {
    "heading_collapsed": "true",
    "tags": []
   },
   "source": [
    "## 1.2: Scale the data in the dataframe(s)"
   ]
  },
  {
   "cell_type": "markdown",
   "id": "interpreted-magic",
   "metadata": {},
   "source": [
    "**Step 1.1:** Scale the data in a range between 0 and 1 (optional)."
   ]
  },
  {
   "cell_type": "code",
   "execution_count": null,
   "id": "hidden-march",
   "metadata": {},
   "outputs": [],
   "source": [
    "# minmax_REFIT = MinMaxScaler()\n",
    "# minmax_Solcast = MinMaxScaler()\n",
    "\n",
    "# df_REFIT[cols_REFIT] = minmax_REFIT.fit_transform(df_REFIT[cols_REFIT])\n",
    "# df_Solcast[cols_Solcast] = minmax_Solcast.fit_transform(df_Solcast[cols_Solcast])"
   ]
  },
  {
   "cell_type": "markdown",
   "id": "impressive-tulsa",
   "metadata": {},
   "source": [
    "**Step 1.2:** Standardize the data by removing the mean and scaling to unit variance (optional)."
   ]
  },
  {
   "cell_type": "code",
   "execution_count": null,
   "id": "tracked-confusion",
   "metadata": {},
   "outputs": [],
   "source": [
    "standardscale_REFIT = StandardScaler()\n",
    "# standardscale_Solcast = StandardScaler()\n",
    "\n",
    "df_REFIT[cols_REFIT] = standardscale_REFIT.fit_transform(df_REFIT[cols_REFIT])\n",
    "# df_Solcast[cols_Solcast] = standardscale_Solcast.fit_transform(df_Solcast[cols_Solcast])"
   ]
  },
  {
   "cell_type": "markdown",
   "id": "lonely-frank",
   "metadata": {
    "heading_collapsed": "true",
    "tags": []
   },
   "source": [
    "## 1.3: Merge the dataframes"
   ]
  },
  {
   "cell_type": "markdown",
   "id": "sophisticated-polyester",
   "metadata": {},
   "source": [
    "**Step 1:** Create a copy of our REFIT dataframe that is resampled into a resolution of 15 minutes and drop any days that contain an incomplete number of values."
   ]
  },
  {
   "cell_type": "code",
   "execution_count": null,
   "id": "vocal-gamma",
   "metadata": {},
   "outputs": [],
   "source": [
    "df_REFIT_resampled = df_REFIT.resample(\"15min\").mean()\n",
    "df_REFIT_resampled = df_REFIT_resampled.dropna()\n",
    "\n",
    "mask = df_REFIT_resampled.groupby(df_REFIT_resampled.index.date).size()\n",
    "mask = mask[mask < 96].index.to_list()\n",
    "\n",
    "df_REFIT_resampled = df_REFIT_resampled[~df_REFIT_resampled.index.floor(\"D\").isin(mask)]"
   ]
  },
  {
   "cell_type": "markdown",
   "id": "hollywood-coupon",
   "metadata": {},
   "source": [
    "**Step 2:** Create a third dataframe that is the result of merging the Solcast dataframe with the REFIT dataframe."
   ]
  },
  {
   "cell_type": "code",
   "execution_count": null,
   "id": "artificial-completion",
   "metadata": {},
   "outputs": [],
   "source": [
    "df_Merged = pd.merge(left=df_Solcast, left_on=df_Solcast.index, right=df_REFIT_resampled, right_on=df_REFIT_resampled.index)\n",
    "\n",
    "cols_Merged = [\n",
    "    \"PeriodStart\",\n",
    "    \"Period\",\n",
    "    \"Appliance1\",\n",
    "    \"Appliance2\",\n",
    "    \"Appliance3\",\n",
    "    \"Appliance4\",\n",
    "    \"Appliance5\",\n",
    "    \"Appliance6\",\n",
    "    \"Appliance7\",\n",
    "    \"Appliance8\",\n",
    "    \"Appliance9\",\n",
    "]\n",
    "\n",
    "df_Merged.drop(cols_Merged, axis=1, inplace=True)\n",
    "df_Merged.rename(columns={\"key_0\": \"Time\"}, inplace=True)\n",
    "df_Merged = df_Merged.set_index(\"Time\")\n",
    "df_Merged.index = pd.to_datetime(df_Merged.index)\n",
    "df_Merged.head()"
   ]
  },
  {
   "cell_type": "markdown",
   "id": "authentic-alpha",
   "metadata": {
    "heading_collapsed": "true",
    "tags": []
   },
   "source": [
    "## 1.4: Append temporal features to our merged dataframe"
   ]
  },
  {
   "cell_type": "markdown",
   "id": "received-cable",
   "metadata": {},
   "source": [
    "**Step 1:** Append public holidays to our merged dataframe."
   ]
  },
  {
   "cell_type": "code",
   "execution_count": null,
   "id": "sapphire-offset",
   "metadata": {},
   "outputs": [],
   "source": [
    "UK_holidays = holidays.UnitedKingdom()\n",
    "df_Merged.insert(0, \"Holiday\", [1 if str(val).split()[0] in UK_holidays else 0 for val in df_Merged.index.date])\n",
    "df_Merged[\"Holiday\"] = df_Merged[\"Holiday\"].astype(\"category\")"
   ]
  },
  {
   "cell_type": "markdown",
   "id": "median-mission",
   "metadata": {},
   "source": [
    "**Step 2:** Define day of the year ranges for each of the seasons."
   ]
  },
  {
   "cell_type": "code",
   "execution_count": null,
   "id": "abroad-thing",
   "metadata": {},
   "outputs": [],
   "source": [
    "spring = range(79, 172)\n",
    "summer = range(172, 266)\n",
    "fall = range(266, 355)\n",
    "\n",
    "def season(doy):\n",
    "    if doy in spring:\n",
    "        return \"0\"\n",
    "    if doy in summer:\n",
    "        return \"1\"\n",
    "    if doy in fall:\n",
    "        return \"2\"\n",
    "    else:\n",
    "        return \"3\""
   ]
  },
  {
   "cell_type": "markdown",
   "id": "gorgeous-toilet",
   "metadata": {},
   "source": [
    "**Step 3:** Append temporal data to our merged dataframe."
   ]
  },
  {
   "cell_type": "code",
   "execution_count": null,
   "id": "sized-adoption",
   "metadata": {},
   "outputs": [],
   "source": [
    "df_Merged.insert(0, \"Year\", df_Merged.index.year)\n",
    "df_Merged.insert(1, \"Month\", df_Merged.index.month)\n",
    "df_Merged.insert(3, \"Day\", df_Merged.index.day)\n",
    "df_Merged.insert(4, \"Hour\", df_Merged.index.hour)\n",
    "df_Merged.insert(5, \"Minute\", df_Merged.index.minute)\n",
    "df_Merged.insert(6, \"Weekday\", df_Merged.index.weekday)\n",
    "df_Merged.insert(7, \"Season\", df_Merged.index.dayofyear.map(season))"
   ]
  },
  {
   "cell_type": "markdown",
   "id": "mysterious-skating",
   "metadata": {
    "heading_collapsed": "true",
    "tags": []
   },
   "source": [
    "# Part 2: Exploratory Data Analysis <a id=\"Part2_REFIT\"> </a>"
   ]
  },
  {
   "cell_type": "markdown",
   "id": "limiting-tours",
   "metadata": {
    "heading_collapsed": "true",
    "tags": []
   },
   "source": [
    "## 2.1: Enumerate values of interest"
   ]
  },
  {
   "cell_type": "markdown",
   "id": "perfect-aspect",
   "metadata": {},
   "source": [
    "**Step 1:** We iterate over each of the houses available in our data set and calculate the total number of missing days, total number of days that contain *incomplete* data, total number of values recorded as well as the number of values that contain *issues* and save the results to a `.csv` file."
   ]
  },
  {
   "cell_type": "code",
   "execution_count": null,
   "id": "piano-legend",
   "metadata": {
    "tags": []
   },
   "outputs": [],
   "source": [
    "output = {\n",
    "    \"House number\": [],\n",
    "    \"Date start\": [],\n",
    "    \"Date end\": [],\n",
    "    \"Total no. of days\": [],\n",
    "    \"No. of days missing\": [],\n",
    "    \"% of days missing\": [],\n",
    "    \"No. of days incomplete\": [],\n",
    "    \"% of days incomplete\": [],\n",
    "    \"Total no. of values recorded\": [],\n",
    "    \"No. of values missing data\": [],\n",
    "    \"% of values missing data\": [],\n",
    "    \"Number of values with issues\": [],\n",
    "    \"% of values with issues\": [],\n",
    "    \"Longest period of missing days\": [],\n",
    "}\n",
    "\n",
    "for i in notebook.trange(1, 22):\n",
    "    if i == 14:\n",
    "        continue\n",
    "\n",
    "    house_number = i\n",
    "    house = f\"CLEAN_House{house_number}.csv\"\n",
    "    file_destination = os.path.join(data_directory_REFIT, house)\n",
    "    df = pd.read_csv(file_destination, index_col=0, parse_dates=True)\n",
    "\n",
    "    # Define the starting date and ending date of our dataframe.\n",
    "    date_start = df.index.min()\n",
    "    date_end = df.index.max()\n",
    "\n",
    "    df_grouped = df.groupby(df.index.date).mean()\n",
    "    total_values = len(df)\n",
    "    total_days = len(pd.date_range(df_grouped.index.min(), df_grouped.index.max()))\n",
    "    \n",
    "    # Set up a dataframe with which to calculate incomplete days.\n",
    "    df_r = df.resample(\"15min\").mean()\n",
    "    df_r = df_r.dropna()\n",
    "\n",
    "    # Count the number of missing days.\n",
    "    days_missing = len(pd.date_range(df_grouped.index.min(), df_grouped.index.max()).difference(df_grouped.index))\n",
    "    percentage_days_missing = np.round((days_missing / total_days) * 100, 2)\n",
    "\n",
    "    # Count the number of days with incomplete data.\n",
    "    mask = df_r.groupby(df_r.index.date).size()\n",
    "    mask = mask[mask < 96].index.to_list()\n",
    "    days_incomplete = len(mask)\n",
    "    percentage_days_incomplete = np.round((days_incomplete / total_days) * 100, 2)\n",
    "\n",
    "    # Count the number of missing values.\n",
    "    values_missing = (df[\"Aggregate\"] == 0).astype(int).sum()\n",
    "    percentage_values_missing = np.round((values_missing / total_values) * 100, 2)\n",
    "\n",
    "    # Count the number of values with 'issues'.\n",
    "    values_issues = (df[\"Issues\"] == 1).astype(int).sum()\n",
    "    percentage_values_issues = np.round((values_issues / total_values) * 100, 2)\n",
    "\n",
    "    # Calculate the longest period of missing days.\n",
    "    df_grouped[\"Diff_Date\"] = df_grouped.index.to_series().diff()\n",
    "    df_grouped[\"Diff_Date\"] = df_grouped[\"Diff_Date\"] / np.timedelta64(1, \"D\")\n",
    "    stretch = df_grouped[\"Diff_Date\"].max().astype(int) - 1\n",
    "\n",
    "    output[\"House number\"].append(house_number)\n",
    "    output[\"Date start\"].append(date_start)\n",
    "    output[\"Date end\"].append(date_end)\n",
    "    output[\"Total no. of days\"].append(total_days)\n",
    "    output[\"No. of days missing\"].append(days_missing)\n",
    "    output[\"% of days missing\"].append(percentage_days_missing)\n",
    "    output[\"Total no. of values recorded\"].append(total_values)\n",
    "    output[\"No. of days incomplete\"].append(days_incomplete)\n",
    "    output[\"% of days incomplete\"].append(percentage_days_incomplete)\n",
    "    output[\"No. of values missing data\"].append(values_missing)\n",
    "    output[\"% of values missing data\"].append(percentage_values_missing)\n",
    "    output[\"Number of values with issues\"].append(values_issues)\n",
    "    output[\"% of values with issues\"].append(percentage_values_issues)\n",
    "    output[\"Longest period of missing days\"].append(stretch)\n",
    "    \n",
    "output = pd.DataFrame.from_dict(output).set_index(\"House number\")\n",
    "output.to_csv(\"Data Analysis - REFIT.csv\")"
   ]
  },
  {
   "cell_type": "markdown",
   "id": "interesting-gardening",
   "metadata": {
    "heading_collapsed": "true",
    "tags": []
   },
   "source": [
    "## 2.2: Visualize the data"
   ]
  },
  {
   "cell_type": "markdown",
   "id": "surgical-shower",
   "metadata": {
    "heading_collapsed": "true",
    "tags": []
   },
   "source": [
    "### 2.2.1: Line plot"
   ]
  },
  {
   "cell_type": "markdown",
   "id": "suspended-boring",
   "metadata": {},
   "source": [
    "**Step 1:** Create a copy of our REFIT dataframe and reformat the index into a string so as to make sure that Matplotlib does not automatically interpolate missing values."
   ]
  },
  {
   "cell_type": "code",
   "execution_count": null,
   "id": "toxic-decision",
   "metadata": {},
   "outputs": [],
   "source": [
    "df_REFIT_resampled_c = df_REFIT_resampled.copy()\n",
    "df_REFIT_resampled_c.index = df_REFIT_resampled_c.index.strftime(\"%d-%m-%y %H:%M:%S\")"
   ]
  },
  {
   "cell_type": "markdown",
   "id": "white-telescope",
   "metadata": {},
   "source": [
    "**Step 2:** Drop all columns barre the `Aggregate` column."
   ]
  },
  {
   "cell_type": "code",
   "execution_count": null,
   "id": "finished-disorder",
   "metadata": {},
   "outputs": [],
   "source": [
    "cols_REFIT_c = cols_REFIT.copy()\n",
    "cols_REFIT_c.remove(\"Aggregate\")\n",
    "df_REFIT_resampled_c.drop(cols_REFIT_c, axis=1, inplace=True)"
   ]
  },
  {
   "cell_type": "markdown",
   "id": "fixed-departure",
   "metadata": {},
   "source": [
    "**Step 3:** Plot the aggregate power consumption over time."
   ]
  },
  {
   "cell_type": "code",
   "execution_count": null,
   "id": "upset-samoa",
   "metadata": {},
   "outputs": [],
   "source": [
    "fig, ax = plt.subplots()\n",
    "df_REFIT_resampled_c[\"Aggregate\"].plot(ax=ax)\n",
    "\n",
    "ax.set_xlabel(\"\")\n",
    "ax.set_ylabel(\"Aggregate Power Consumption (Watts)\")\n",
    "ax.set_xlim(left=-5, right=len(df_REFIT_resampled_c) + 5)\n",
    "ax.set_ylim(bottom=df_REFIT_resampled_c[\"Aggregate\"].min() - 100)\n",
    "\n",
    "plt.setp(ax.get_xticklabels(), ha=\"right\", rotation=60)\n",
    "plt.tight_layout()\n",
    "plt.show()"
   ]
  },
  {
   "cell_type": "markdown",
   "id": "tribal-spouse",
   "metadata": {
    "heading_collapsed": "true",
    "tags": []
   },
   "source": [
    "### 2.2.2: Stack plot"
   ]
  },
  {
   "cell_type": "markdown",
   "id": "grand-october",
   "metadata": {},
   "source": [
    "**Step 1:** Create a copy of our REFIT dataframe that contains only the IAM readings (with their labels) and group by the averaged reading per hour of the day."
   ]
  },
  {
   "cell_type": "code",
   "execution_count": null,
   "id": "authentic-pastor",
   "metadata": {},
   "outputs": [],
   "source": [
    "hours = []\n",
    "for i in range(0, 24):\n",
    "    if i < 10:\n",
    "        hours.append(f\"0{i}:00:00\")\n",
    "    if i >= 10:\n",
    "        hours.append(f\"{i}:00:00\")"
   ]
  },
  {
   "cell_type": "code",
   "execution_count": null,
   "id": "frozen-premises",
   "metadata": {},
   "outputs": [],
   "source": [
    "df_Stacked = df_REFIT.iloc[:, 1:10].groupby(df_REFIT.index.hour).mean()\n",
    "\n",
    "df_Stacked = df_Stacked.rename(\n",
    "    index=str,\n",
    "    columns={\n",
    "        \"Appliance1\": \"Fridge-Freezer\",\n",
    "        \"Appliance2\": \"Unknown\",\n",
    "        \"Appliance3\": \"Unknown\",\n",
    "        \"Appliance4\": \"Computer Site\",\n",
    "        \"Appliance5\": \"Microwave\",\n",
    "        \"Appliance6\": \"Kettle\",\n",
    "        \"Appliance7\": \"Toaster\",\n",
    "        \"Appliance8\": \"Television\",\n",
    "        \"Appliance9\": \"Unknown\",\n",
    "    },\n",
    ")\n",
    "df_Stacked.index = hours\n",
    "df_Stacked.index = pd.to_datetime(df_Stacked.index, format=\"%H:%M:%S\")\n",
    "df_Stacked"
   ]
  },
  {
   "cell_type": "markdown",
   "id": "instrumental-authority",
   "metadata": {},
   "source": [
    "**Step 2:** Create the stack plot."
   ]
  },
  {
   "cell_type": "code",
   "execution_count": null,
   "id": "tough-guard",
   "metadata": {},
   "outputs": [],
   "source": [
    "fig, ax = plt.subplots()\n",
    "\n",
    "colors = [\"b\", \"orange\", \"g\", \"r\", \"purple\", \"brown\", \"pink\", \"gray\", \"yellow\"]\n",
    "\n",
    "ax.stackplot(df_Stacked.index.values, np.transpose(df_Stacked.values), labels=df_Stacked.columns.values, colors=colors)\n",
    "ax.legend(loc=\"upper left\", fontsize=18)\n",
    "ax.set_xlim(df_Stacked.index.min(), df_Stacked.index.max())\n",
    "ax.xaxis.set_major_locator(md.HourLocator())\n",
    "ax.xaxis.set_major_formatter(md.DateFormatter(\"%H:%M\"))\n",
    "\n",
    "plt.xlabel(\"Time\")\n",
    "plt.ylabel(\"Average Power Consumption (Watts)\")\n",
    "plt.xticks(df_Stacked.index.values)\n",
    "\n",
    "fig.autofmt_xdate()\n",
    "\n",
    "plt.tight_layout()\n",
    "plt.show()"
   ]
  },
  {
   "cell_type": "markdown",
   "id": "expressed-wound",
   "metadata": {},
   "source": [
    "**Step 3:** Create individual plots for each of the IAMs."
   ]
  },
  {
   "cell_type": "code",
   "execution_count": null,
   "id": "spiritual-wagon",
   "metadata": {},
   "outputs": [],
   "source": [
    "fig, axs = plt.subplots(3, 3)\n",
    "i = 0\n",
    "colors = [\"b\", \"orange\", \"g\", \"r\", \"purple\", \"brown\", \"pink\", \"gray\", \"yellow\"]\n",
    "\n",
    "list = []\n",
    "for x in range(0, 24, 6):\n",
    "    list.append(df_Stacked.index[x])\n",
    "list.append(df_Stacked.index[-1])\n",
    "\n",
    "for nrow in range(0, 3):\n",
    "    for ncol in range(0, 3):\n",
    "        axs[nrow, ncol].plot(df_Stacked.index, df_Stacked.iloc[:, i], color=colors[i])\n",
    "        axs[nrow, ncol].set_xlim(df_Stacked.index.min(), df_Stacked.index.max())\n",
    "        axs[nrow, ncol].set_title(df_Stacked.columns[i], fontsize=18)\n",
    "        axs[nrow, ncol].xaxis.set_major_locator(md.HourLocator())\n",
    "        axs[nrow, ncol].xaxis.set_major_formatter(md.DateFormatter(\"%H:%M\"))\n",
    "        axs[nrow, ncol].set_xticks(list)\n",
    "        i = i + 1\n",
    "\n",
    "fig.autofmt_xdate()\n",
    "fig.add_subplot(111, frameon=False)\n",
    "\n",
    "plt.grid(False)\n",
    "plt.tick_params(labelcolor=\"none\", top=False, bottom=False, left=False, right=False)\n",
    "plt.xlabel(\"Time\", labelpad=25)\n",
    "plt.ylabel(\"Average Power Consumption (Watts)\", labelpad=15)\n",
    "plt.tight_layout()\n",
    "plt.show()"
   ]
  },
  {
   "cell_type": "markdown",
   "id": "involved-drinking",
   "metadata": {
    "heading_collapsed": "true",
    "tags": []
   },
   "source": [
    "### 2.2.3: Count plot"
   ]
  },
  {
   "cell_type": "markdown",
   "id": "graphic-receptor",
   "metadata": {},
   "source": [
    "**Step 1:** Visualize the number of samples per day of the week over the entire data set."
   ]
  },
  {
   "cell_type": "code",
   "execution_count": null,
   "id": "static-partner",
   "metadata": {},
   "outputs": [],
   "source": [
    "df_Merged_c = df_Merged.copy()\n",
    "df_Merged_c.insert(0, \"Weekday_name\", df_Merged.index.day_name())\n",
    "\n",
    "ax = sns.countplot(\n",
    "    x=df_Merged_c[\"Weekday_name\"],\n",
    "    data=df_Merged_c,\n",
    "    palette=\"icefire\",\n",
    "    order=[\"Monday\", \"Tuesday\", \"Wednesday\", \"Thursday\", \"Friday\", \"Saturday\", \"Sunday\"],\n",
    ")\n",
    "\n",
    "plt.xlabel(\"Weekday\")\n",
    "plt.ylabel(\"Count\")\n",
    "plt.tight_layout()\n",
    "plt.show()"
   ]
  },
  {
   "cell_type": "markdown",
   "id": "cognitive-elements",
   "metadata": {},
   "source": [
    "**Step 2:** Visualize the number of samples per month over the entire data set."
   ]
  },
  {
   "cell_type": "code",
   "execution_count": null,
   "id": "continued-illustration",
   "metadata": {},
   "outputs": [],
   "source": [
    "df_Merged_c = df_Merged.copy()\n",
    "df_Merged_c.insert(0, \"Month_name\", df_Merged.index.month_name())\n",
    "\n",
    "ax = sns.countplot(\n",
    "    x=df_Merged_c[\"Month_name\"],\n",
    "    data=df_Merged_c,\n",
    "    palette=\"icefire\",\n",
    "    order=[\"January\", \"February\", \"March\", \"April\", \"May\", \"June\", \"July\", \"August\", \"September\", \"October\", \"November\", \"December\"],\n",
    ")\n",
    "\n",
    "plt.setp(ax.get_xticklabels(), ha=\"right\", rotation=60)\n",
    "plt.xlabel(\"Month\")\n",
    "plt.ylabel(\"Count\")\n",
    "plt.tight_layout()\n",
    "plt.show()"
   ]
  },
  {
   "cell_type": "markdown",
   "id": "incorporated-velvet",
   "metadata": {
    "heading_collapsed": "true",
    "tags": []
   },
   "source": [
    "### 2.2.4: Stationarity plot"
   ]
  },
  {
   "cell_type": "markdown",
   "id": "marine-calculation",
   "metadata": {},
   "source": [
    "**Step 1:** Test for stationarity and plot the result using the pre-defined `test_stationarity` function."
   ]
  },
  {
   "cell_type": "code",
   "execution_count": null,
   "id": "superior-spank",
   "metadata": {},
   "outputs": [],
   "source": [
    "test_stationarity(df_REFIT_resampled_c, 0.05, \"Aggregate\", \"Aggregate Power Consumption (Watts)\")"
   ]
  },
  {
   "cell_type": "markdown",
   "id": "accomplished-fortune",
   "metadata": {
    "heading_collapsed": "true",
    "tags": []
   },
   "source": [
    "### 2.2.5: Box and whisker plots/outliers"
   ]
  },
  {
   "cell_type": "markdown",
   "id": "funny-means",
   "metadata": {},
   "source": [
    "**Step 1:** Box and whiskers plot for the aggregate as well as each of the IAM readings grouped by the months of the year."
   ]
  },
  {
   "cell_type": "code",
   "execution_count": null,
   "id": "damaged-prairie",
   "metadata": {},
   "outputs": [],
   "source": [
    "fig, axs = plt.subplots(len(cols_REFIT), 1, figsize=(16, 10 * (len(cols_REFIT))), sharex=True)\n",
    "\n",
    "for col, ax in zip([*cols_REFIT], axs):\n",
    "    sns.boxplot(\n",
    "        data=df_REFIT,\n",
    "        x=df_REFIT.index.month_name(),\n",
    "        y=col,\n",
    "        ax=ax,\n",
    "        order=[\"January\", \"February\", \"March\", \"April\", \"May\", \"June\", \"July\", \"August\", \"September\", \"October\", \"November\", \"December\"],\n",
    "    )\n",
    "    ax.set_title(col)\n",
    "    ax.xaxis.set_label_text(\"\")\n",
    "\n",
    "plt.setp(ax.get_xticklabels(), ha=\"right\", rotation=60)\n",
    "plt.xlabel(\"Month\")\n",
    "plt.tight_layout()\n",
    "plt.show()"
   ]
  },
  {
   "cell_type": "markdown",
   "id": "yellow-deployment",
   "metadata": {},
   "source": [
    "**Step 2:** We remove outliers that are 3 standard deviations away from the mean and repeat **step 1**."
   ]
  },
  {
   "cell_type": "code",
   "execution_count": null,
   "id": "demonstrated-brake",
   "metadata": {},
   "outputs": [],
   "source": [
    "df_out = df_REFIT[(np.abs(stats.zscore(df_REFIT[\"Aggregate\"])) < 3)]\n",
    "print(f\"Number of outliers: {(len(df_REFIT) - len(df_out))}\")"
   ]
  },
  {
   "cell_type": "code",
   "execution_count": null,
   "id": "thick-nicaragua",
   "metadata": {},
   "outputs": [],
   "source": [
    "fig, axs = plt.subplots(len(cols_REFIT), 1, figsize=(16, 10 * (len(cols_REFIT))), sharex=True)\n",
    "\n",
    "for col, ax in zip([*cols_REFIT], axs):\n",
    "    sns.boxplot(\n",
    "        data=df_out,\n",
    "        x=df_out.index.month_name(),\n",
    "        y=col,\n",
    "        ax=ax,\n",
    "        order=[\"January\", \"February\", \"March\", \"April\", \"May\", \"June\", \"July\", \"August\", \"September\", \"October\", \"November\", \"December\"],\n",
    "    )\n",
    "    ax.xaxis.set_label_text(\"\")\n",
    "\n",
    "plt.setp(ax.get_xticklabels(), ha=\"right\", rotation=60)\n",
    "plt.xlabel(\"Month\")\n",
    "plt.tight_layout()\n",
    "plt.show()"
   ]
  },
  {
   "cell_type": "markdown",
   "id": "infectious-wholesale",
   "metadata": {},
   "source": [
    "**Step 2.1:** Purely for the aggregate power consumption."
   ]
  },
  {
   "cell_type": "code",
   "execution_count": null,
   "id": "prescription-greeting",
   "metadata": {},
   "outputs": [],
   "source": [
    "ax = sns.boxplot(\n",
    "    data=df_out,\n",
    "    x=df_out.index.month_name(),\n",
    "    y=df_out[\"Aggregate\"],\n",
    "    order=[\"January\", \"February\", \"March\", \"April\", \"May\", \"June\", \"July\", \"August\", \"September\", \"October\", \"November\", \"December\"],\n",
    ")\n",
    "\n",
    "plt.setp(ax.get_xticklabels(), ha=\"right\", rotation=60)\n",
    "plt.xlabel(\"Month\")\n",
    "plt.ylabel(\"Aggregate Power Consumption (Watts)\")\n",
    "plt.tight_layout()\n",
    "plt.show()"
   ]
  },
  {
   "cell_type": "markdown",
   "id": "exceptional-province",
   "metadata": {},
   "source": [
    "**Step 3:** Box and whiskers plot for the aggregate as well as each of the IAM readings over the entirety of the data set."
   ]
  },
  {
   "cell_type": "code",
   "execution_count": null,
   "id": "coral-forty",
   "metadata": {},
   "outputs": [],
   "source": [
    "fig, ax = plt.subplots()\n",
    "sns.boxplot(data=df_out, ax=ax)\n",
    "\n",
    "plt.setp(ax.get_xticklabels(), ha=\"right\", rotation=45)\n",
    "plt.tight_layout()\n",
    "plt.show()"
   ]
  },
  {
   "cell_type": "markdown",
   "id": "excessive-radar",
   "metadata": {
    "heading_collapsed": "true",
    "tags": []
   },
   "source": [
    "## 2.3: Time series decomposition"
   ]
  },
  {
   "cell_type": "markdown",
   "id": "decreased-restoration",
   "metadata": {},
   "source": [
    "**Step 1:** Create a copy of our REFIT dataframe and reformat the index into a string so as to make sure that Matplotlib does not automatically interpolate missing values."
   ]
  },
  {
   "cell_type": "code",
   "execution_count": null,
   "id": "swedish-trial",
   "metadata": {},
   "outputs": [],
   "source": [
    "df_REFIT_resampled_c = df_REFIT_resampled.copy()\n",
    "df_REFIT_resampled_c.index = df_REFIT_resampled_c.index.strftime(\"%d-%m-%y %H:%M:%S\")"
   ]
  },
  {
   "cell_type": "markdown",
   "id": "focused-mobility",
   "metadata": {},
   "source": [
    "**Step 2:** Drop all columns barre the `Aggregate` column."
   ]
  },
  {
   "cell_type": "code",
   "execution_count": null,
   "id": "gorgeous-lover",
   "metadata": {},
   "outputs": [],
   "source": [
    "cols_REFIT_c = cols_REFIT.copy()\n",
    "cols_REFIT_c.remove(\"Aggregate\")\n",
    "df_REFIT_resampled_c.drop(cols_REFIT_c, axis=1, inplace=True)"
   ]
  },
  {
   "cell_type": "markdown",
   "id": "numeric-yesterday",
   "metadata": {},
   "source": [
    "**Step 3:** Define a period of 2-3 months (as an example)."
   ]
  },
  {
   "cell_type": "code",
   "execution_count": null,
   "id": "seven-liberty",
   "metadata": {},
   "outputs": [],
   "source": [
    "df_REFIT_resampled_c = df_REFIT_resampled_c.loc[\"2015-01-01\":\"2015-04-01\"]"
   ]
  },
  {
   "cell_type": "markdown",
   "id": "committed-remark",
   "metadata": {},
   "source": [
    "**Step 4:** Perform time series decomposition using LOESS."
   ]
  },
  {
   "cell_type": "code",
   "execution_count": null,
   "id": "confirmed-conclusion",
   "metadata": {},
   "outputs": [],
   "source": [
    "freq = (24 * 60) // 15\n",
    "stl_decompose_result = STL(df_REFIT_resampled_c, period=freq).fit()"
   ]
  },
  {
   "cell_type": "markdown",
   "id": "hazardous-champion",
   "metadata": {},
   "source": [
    "**Step 5:** Separate/plot the obtained results."
   ]
  },
  {
   "cell_type": "code",
   "execution_count": null,
   "id": "generous-balance",
   "metadata": {},
   "outputs": [],
   "source": [
    "observed = stl_decompose_result.observed\n",
    "trend = stl_decompose_result.trend.to_frame()\n",
    "seasonal = stl_decompose_result.seasonal.to_frame()\n",
    "noise = stl_decompose_result.resid.to_frame()"
   ]
  },
  {
   "cell_type": "code",
   "execution_count": null,
   "id": "aging-salad",
   "metadata": {},
   "outputs": [],
   "source": [
    "fig, axs = plt.subplots(4, sharex=True)\n",
    "\n",
    "observed.plot(ax=axs[0], title=\"Observed\")\n",
    "trend.plot(ax=axs[1], title=\"Trend\")\n",
    "seasonal.plot(ax=axs[2], title=\"Seasonal\")\n",
    "noise.plot(ax=axs[3], title=\"Noise\")\n",
    "\n",
    "for ax in axs:\n",
    "    ax.set_xlabel(\"\")\n",
    "    ax.set_xlim(0, right=len(observed))\n",
    "    ax.get_legend().remove()\n",
    "    ax.title.set_size(22)\n",
    "\n",
    "fig.text(0.03, 0.6, \"Aggregate Power Consumption (Watts)\", fontsize=\"22\", va=\"center\", rotation=\"vertical\")\n",
    "plt.setp(ax.get_xticklabels(), ha=\"right\", rotation=60)\n",
    "plt.tight_layout()\n",
    "plt.show()"
   ]
  },
  {
   "cell_type": "markdown",
   "id": "spare-length",
   "metadata": {
    "heading_collapsed": "true",
    "tags": []
   },
   "source": [
    "## 2.4: Causality and correlation"
   ]
  },
  {
   "cell_type": "markdown",
   "id": "muslim-plate",
   "metadata": {},
   "source": [
    "**Step 1:** Perform the Augmented Dicky-Fuller test to determine whether our time series is stationary."
   ]
  },
  {
   "cell_type": "code",
   "execution_count": null,
   "id": "excellent-budapest",
   "metadata": {},
   "outputs": [],
   "source": [
    "for name, column in df_Merged.iteritems():\n",
    "    adfuller_test(column, name=column.name)\n",
    "    print(\"\\n\")"
   ]
  },
  {
   "cell_type": "markdown",
   "id": "reflected-thing",
   "metadata": {},
   "source": [
    "**Step 2:** Check for autocorrelation."
   ]
  },
  {
   "cell_type": "code",
   "execution_count": null,
   "id": "severe-tutorial",
   "metadata": {},
   "outputs": [],
   "source": [
    "plot_acf(df_REFIT_resampled[\"Aggregate\"], lags=50, zero=False)\n",
    "plt.show()"
   ]
  },
  {
   "cell_type": "markdown",
   "id": "impossible-sending",
   "metadata": {},
   "source": [
    "**Step 3:** Check for partial autocorrelation."
   ]
  },
  {
   "cell_type": "code",
   "execution_count": null,
   "id": "damaged-college",
   "metadata": {},
   "outputs": [],
   "source": [
    "plot_pacf(df_REFIT_resampled[\"Aggregate\"], lags=50, zero=False)\n",
    "plt.show()"
   ]
  },
  {
   "cell_type": "markdown",
   "id": "smaller-cambridge",
   "metadata": {},
   "source": [
    "**Step 4:** Check for highly correlated features in the Solcast dataframe and drop them from our merged dataframe."
   ]
  },
  {
   "cell_type": "code",
   "execution_count": null,
   "id": "interior-poster",
   "metadata": {},
   "outputs": [],
   "source": [
    "highly_correlated = correlation(df_Solcast, 0.7, df_Merged.Aggregate)\n",
    "A = len(df_Merged.columns)\n",
    "print(highly_correlated)\n",
    "#df_Merged.drop(highly_correlated, axis=1, inplace=True)\n",
    "B = len(df_Merged.columns) - len(highly_correlated)\n",
    "print(A, B)"
   ]
  },
  {
   "cell_type": "markdown",
   "id": "distributed-patient",
   "metadata": {},
   "source": [
    "**Step 5:** Estimate mutual information of our independent variables on our target variable."
   ]
  },
  {
   "cell_type": "code",
   "execution_count": null,
   "id": "bizarre-corrections",
   "metadata": {},
   "outputs": [],
   "source": [
    "X, y = (df_Merged.loc[:, df_Merged.columns != \"Aggregate\"], df_Merged[\"Aggregate\"])\n",
    "mutual_info = mutual_info_regression(X, y)"
   ]
  },
  {
   "cell_type": "code",
   "execution_count": null,
   "id": "dried-somewhere",
   "metadata": {},
   "outputs": [],
   "source": [
    "mutual_info = pd.Series(mutual_info)\n",
    "mutual_info.index = X.columns\n",
    "mutual_info = mutual_info.sort_values(ascending=False)"
   ]
  },
  {
   "cell_type": "code",
   "execution_count": null,
   "id": "combined-fifth",
   "metadata": {},
   "outputs": [],
   "source": [
    "ax = sns.barplot(x=mutual_info.values, y=mutual_info.index, palette=\"icefire\")\n",
    "ax.set_xlabel(\"Mutual information\")\n",
    "ax.set_ylabel(\"Independent variable\")\n",
    "plt.tight_layout()\n",
    "plt.show()"
   ]
  },
  {
   "cell_type": "markdown",
   "id": "funded-empire",
   "metadata": {},
   "source": [
    "**Step 6:** Granger causality test."
   ]
  },
  {
   "cell_type": "code",
   "execution_count": null,
   "id": "medieval-rough",
   "metadata": {},
   "outputs": [],
   "source": [
    "gm = grangers_causation_matrix(df_Merged, variables = df_Merged.columns) "
   ]
  },
  {
   "cell_type": "code",
   "execution_count": null,
   "id": "built-serve",
   "metadata": {},
   "outputs": [],
   "source": [
    "gm2 = gm.transpose()[\"Aggregate_y\"].iloc[0:18].to_frame()\n",
    "ax = sns.heatmap(gm2, mask=gm2 < 0.05, annot=True, fmt=\".2f\", square=True, cmap=\"rocket_r\", vmin=0.0, vmax=1.0)\n",
    "ax2 = sns.heatmap(gm2, mask=gm2 >= 0.05, annot=True, fmt=\".2f\", square=True, cmap=\"rocket_r\", vmin=0.0, vmax=1.0, annot_kws={\"weight\": \"bold\"}, cbar=False)\n",
    "\n",
    "plt.show()"
   ]
  },
  {
   "cell_type": "code",
   "execution_count": null,
   "id": "interim-grave",
   "metadata": {},
   "outputs": [],
   "source": [
    "ax = sns.heatmap(gm.transpose(), annot=True, fmt=\".2f\", square=True, cmap=\"rocket_r\")"
   ]
  },
  {
   "cell_type": "code",
   "execution_count": null,
   "id": "smooth-montgomery",
   "metadata": {},
   "outputs": [],
   "source": [
    "# gm2 = gm.where(np.tril(np.ones(gm.shape)).astype(bool))\n",
    "# cmap = sns.diverging_palette(250, 15, s=75, l=40, n=9, center=\"light\", as_cmap=True)\n",
    "\n",
    "# sns.heatmap(gm2, center=0, annot=True, fmt=\".2f\", square=True, cmap=cmap)\n",
    "# plt.show()"
   ]
  },
  {
   "cell_type": "markdown",
   "id": "lined-possession",
   "metadata": {
    "heading_collapsed": "true",
    "tags": []
   },
   "source": [
    "# Part 3: Clustering <a id=\"Part3_REFIT\"> </a>"
   ]
  },
  {
   "cell_type": "markdown",
   "id": "gothic-baptist",
   "metadata": {
    "heading_collapsed": "true",
    "tags": []
   },
   "source": [
    "## 3.1: Dimensionality reduction"
   ]
  },
  {
   "cell_type": "markdown",
   "id": "wanted-massachusetts",
   "metadata": {},
   "source": [
    "**Step 1:** Create a copy of our REFIT dataframe"
   ]
  },
  {
   "cell_type": "code",
   "execution_count": null,
   "id": "proved-interface",
   "metadata": {},
   "outputs": [],
   "source": [
    "df_REFIT_resampled_c = df_REFIT_resampled.copy()"
   ]
  },
  {
   "cell_type": "markdown",
   "id": "reserved-vegetation",
   "metadata": {},
   "source": [
    "**Step 2:** Drop all columns barre the `Aggregate` column."
   ]
  },
  {
   "cell_type": "code",
   "execution_count": null,
   "id": "sophisticated-turtle",
   "metadata": {},
   "outputs": [],
   "source": [
    "cols_REFIT_c = cols_REFIT.copy()\n",
    "cols_REFIT_c.remove(\"Aggregate\")\n",
    "df_REFIT_resampled_c.drop(cols_REFIT_c, axis=1, inplace=True)"
   ]
  },
  {
   "cell_type": "markdown",
   "id": "vocal-stack",
   "metadata": {},
   "source": [
    "**Step 3:** Reshape our dataframe as 96 columns that represent the 96 15-minute chunks of each day."
   ]
  },
  {
   "cell_type": "code",
   "execution_count": null,
   "id": "reflected-mineral",
   "metadata": {},
   "outputs": [],
   "source": [
    "df_REFIT_resampled_c.index = pd.MultiIndex.from_arrays([df_REFIT_resampled_c.index.date, df_REFIT_resampled_c.index.time], names=[\"Date\", \"Time\"])\n",
    "df_REFIT_resampled_c = df_REFIT_resampled_c.unstack()"
   ]
  },
  {
   "cell_type": "markdown",
   "id": "assumed-spiritual",
   "metadata": {
    "heading_collapsed": "true",
    "tags": []
   },
   "source": [
    "### 3.1.1: Statistical parameters"
   ]
  },
  {
   "cell_type": "markdown",
   "id": "pleasant-settlement",
   "metadata": {},
   "source": [
    "**Step 1:** Split our day into 5 periods:\n",
    " - `LEEM`: Late evening/early morning (23:30-06:00)\n",
    " - `MR`: Morning (06:00-11:00)\n",
    " - `LMAF`: Late morning/afternoon (11:00-15:00)\n",
    " - `LAEE`: Late afternoon/early evening (15:00-20:30)\n",
    " - `EV`: Evening (20:30-23:30)"
   ]
  },
  {
   "cell_type": "code",
   "execution_count": null,
   "id": "right-riverside",
   "metadata": {},
   "outputs": [],
   "source": [
    "LEEM = df_REFIT_resampled_c.iloc[:, np.r_[0:24, 92:96]]\n",
    "MR = df_REFIT_resampled_c.iloc[:, 24:45]\n",
    "LMAF = df_REFIT_resampled_c.iloc[:, 44:61]\n",
    "LAEE = df_REFIT_resampled_c.iloc[:, 60:83]\n",
    "EV = df_REFIT_resampled_c.iloc[:, 82:95]"
   ]
  },
  {
   "cell_type": "markdown",
   "id": "floral-glasgow",
   "metadata": {},
   "source": [
    "**Step 2:** Create a new dataframe that consists of the mean, min, max and standard deviation of each of our 5 periods per day. We now represent each day with 20 variables rather than 96."
   ]
  },
  {
   "cell_type": "code",
   "execution_count": null,
   "id": "collective-chair",
   "metadata": {},
   "outputs": [],
   "source": [
    "df_SP = LEEM.mean(axis=1).to_frame(name=\"LEEM_Mean\")\n",
    "df_SP.insert(len(df_SP.columns), \"LEEM_Min\", LEEM.min(axis=1))\n",
    "df_SP.insert(len(df_SP.columns), \"LEEM_Max\", LEEM.max(axis=1))\n",
    "df_SP.insert(len(df_SP.columns), \"LEEM_STD\", LEEM.std(axis=1))\n",
    "df_SP.insert(len(df_SP.columns), \"MR_Mean\", MR.mean(axis=1))\n",
    "df_SP.insert(len(df_SP.columns), \"MR_Min\", MR.min(axis=1))\n",
    "df_SP.insert(len(df_SP.columns), \"MR_Max\", MR.max(axis=1))\n",
    "df_SP.insert(len(df_SP.columns), \"MR_STD\", MR.std(axis=1))\n",
    "df_SP.insert(len(df_SP.columns), \"LMAF_Mean\", LMAF.mean(axis=1))\n",
    "df_SP.insert(len(df_SP.columns), \"LMAF_Min\", LMAF.min(axis=1))\n",
    "df_SP.insert(len(df_SP.columns), \"LMAF_Max\", LMAF.max(axis=1))\n",
    "df_SP.insert(len(df_SP.columns), \"LMAF_STD\", LMAF.std(axis=1))\n",
    "df_SP.insert(len(df_SP.columns), \"LAEE_Mean\", LAEE.mean(axis=1))\n",
    "df_SP.insert(len(df_SP.columns), \"LAEE_Min\", LAEE.min(axis=1))\n",
    "df_SP.insert(len(df_SP.columns), \"LAEE_Max\", LAEE.max(axis=1))\n",
    "df_SP.insert(len(df_SP.columns), \"LAEE_STD\", LAEE.std(axis=1))\n",
    "df_SP.insert(len(df_SP.columns), \"EV_Mean\", EV.mean(axis=1))\n",
    "df_SP.insert(len(df_SP.columns), \"EV_Min\", EV.min(axis=1))\n",
    "df_SP.insert(len(df_SP.columns), \"EV_Max\", EV.max(axis=1))\n",
    "df_SP.insert(len(df_SP.columns), \"EV_STD\", EV.std(axis=1))"
   ]
  },
  {
   "cell_type": "markdown",
   "id": "extended-chrome",
   "metadata": {
    "heading_collapsed": "true",
    "tags": []
   },
   "source": [
    "### 3.1.2: PCA"
   ]
  },
  {
   "cell_type": "markdown",
   "id": "vocal-brooklyn",
   "metadata": {},
   "source": [
    "**Step 1:** Determine the cumulative explained variance ratio as a function of the number of variables."
   ]
  },
  {
   "cell_type": "code",
   "execution_count": null,
   "id": "burning-order",
   "metadata": {},
   "outputs": [],
   "source": [
    "pca = PCA().fit(df_SP)\n",
    "\n",
    "plt.plot(np.cumsum(pca.explained_variance_ratio_))\n",
    "plt.xlabel(\"Number of variables\")\n",
    "plt.ylabel(\"Cumulative explained variance\")\n",
    "plt.tight_layout()\n",
    "plt.show()"
   ]
  },
  {
   "cell_type": "markdown",
   "id": "resident-chocolate",
   "metadata": {},
   "source": [
    "**Step 2:** Apply PCA to our data set."
   ]
  },
  {
   "cell_type": "code",
   "execution_count": null,
   "id": "located-doctrine",
   "metadata": {},
   "outputs": [],
   "source": [
    "pca = PCA(random_state=3141589, n_components = 8)\n",
    "df_SP1 = pca.fit_transform(df_SP)"
   ]
  },
  {
   "cell_type": "markdown",
   "id": "working-message",
   "metadata": {
    "heading_collapsed": "true",
    "tags": []
   },
   "source": [
    "### 3.1.3: tSNE"
   ]
  },
  {
   "cell_type": "markdown",
   "id": "modified-novel",
   "metadata": {},
   "source": [
    "**Step 1:** Apply tSNE to our data set."
   ]
  },
  {
   "cell_type": "code",
   "execution_count": null,
   "id": "legislative-officer",
   "metadata": {},
   "outputs": [],
   "source": [
    "projection = TSNE(random_state=3141589, perplexity=np.power(len(df_REFIT_resampled_c), 0.5).astype(int), learning_rate=550, n_iter=2500).fit_transform(df_SP)\n",
    "projection = TSNE(random_state=3141589).fit_transform(projection)\n",
    "plt.scatter(*projection.T)\n",
    "plt.tight_layout()\n",
    "plt.show()"
   ]
  },
  {
   "cell_type": "markdown",
   "id": "sudden-aviation",
   "metadata": {},
   "source": [
    "**Optional:** Visualize the application of tSNE on our data set."
   ]
  },
  {
   "cell_type": "code",
   "execution_count": null,
   "id": "lucky-compound",
   "metadata": {},
   "outputs": [],
   "source": [
    "# positions = []\n",
    "# X_iter = np.dstack(position.reshape(-1, 2) for position in positions)\n",
    "# f, ax, sc = scatter(X_iter[..., -1])\n",
    "# animation = mpy.VideoClip(make_frame_mpl, duration=X_iter.shape[2] / 40.)\n",
    "# animation.write_gif(\"tsne.gif\", fps=20)"
   ]
  },
  {
   "cell_type": "markdown",
   "id": "vocational-salmon",
   "metadata": {
    "heading_collapsed": "true",
    "tags": []
   },
   "source": [
    "### 3.1.4: UMAP"
   ]
  },
  {
   "cell_type": "markdown",
   "id": "parliamentary-hungary",
   "metadata": {},
   "source": [
    "**Step 1:** Apply UMAP to our data set."
   ]
  },
  {
   "cell_type": "code",
   "execution_count": null,
   "id": "average-sculpture",
   "metadata": {},
   "outputs": [],
   "source": [
    "projection = umap.UMAP(random_state=3141589, n_neighbors=np.power(len(df_REFIT_resampled_c), 0.5).astype(int), min_dist=0.1, n_components=2).fit_transform(df_SP)\n",
    "projection = TSNE(random_state=3141589).fit_transform(projection)\n",
    "plt.scatter(*projection.T)\n",
    "plt.tight_layout()\n",
    "plt.show()"
   ]
  },
  {
   "cell_type": "markdown",
   "id": "basic-dakota",
   "metadata": {
    "heading_collapsed": "true",
    "tags": []
   },
   "source": [
    "## 3.2: HDBSCAN"
   ]
  },
  {
   "cell_type": "markdown",
   "id": "infectious-trash",
   "metadata": {},
   "source": [
    "**Step 1:** Define our HDBSCAN clusterer with the appropriate hyperparameters and fit it to our 2-dimensional projection."
   ]
  },
  {
   "cell_type": "code",
   "execution_count": null,
   "id": "speaking-pencil",
   "metadata": {},
   "outputs": [],
   "source": [
    "HDB = hdbscan.HDBSCAN(min_cluster_size=(len(df_REFIT_resampled_c) // 10), min_samples=15)\n",
    "HDB = HDB.fit(projection)"
   ]
  },
  {
   "cell_type": "code",
   "execution_count": null,
   "id": "physical-oliver",
   "metadata": {},
   "outputs": [],
   "source": [
    "HDB.condensed_tree_.plot(select_clusters=True)\n",
    "plt.show()"
   ]
  },
  {
   "cell_type": "markdown",
   "id": "under-alpha",
   "metadata": {},
   "source": [
    "**Step 2:** Plot/visualize our clusters."
   ]
  },
  {
   "cell_type": "code",
   "execution_count": null,
   "id": "celtic-minneapolis",
   "metadata": {},
   "outputs": [],
   "source": [
    "labels = HDB.labels_\n",
    "labels = [label + 1 for label in labels]\n",
    "n_clusters = len(set(labels)) - (1 if 0 in labels else 0)\n",
    "n_noise = list(labels).count(0)\n",
    "core_samples_mask = np.zeros_like(labels, dtype=bool)"
   ]
  },
  {
   "cell_type": "code",
   "execution_count": null,
   "id": "declared-administrator",
   "metadata": {},
   "outputs": [],
   "source": [
    "unique_labels = set(labels)\n",
    "colors = [plt.cm.Set1(each) for each in np.linspace(0, 1, len(unique_labels))]\n",
    "for k, col in zip(unique_labels, colors):\n",
    "    if k == 0:\n",
    "        # Black used for noise.\n",
    "        col = [0, 0, 0, 1]\n",
    "    class_member_mask = labels == k\n",
    "\n",
    "    xy = projection[class_member_mask & core_samples_mask]\n",
    "    plt.plot(xy[:, 0], xy[:, 1], \"o\", markerfacecolor=tuple(col), markeredgecolor=\"k\", markersize=14)\n",
    "\n",
    "    xy = projection[class_member_mask & ~core_samples_mask]\n",
    "    plt.plot(xy[:, 0], xy[:, 1], \"o\", markerfacecolor=tuple(col), markeredgecolor=\"k\", markersize=6)\n",
    "plt.title(\"Estimated number of clusters: %d\" % n_clusters)\n",
    "plt.show()\n",
    "\n",
    "print(\"Estimated number of clusters: %d\" % n_clusters)\n",
    "print(\"Estimated number of noise points: %d\" % n_noise)\n",
    "print(\"Silhouette Coefficient: %0.3f\" % metrics.silhouette_score(projection, labels))"
   ]
  },
  {
   "cell_type": "markdown",
   "id": "modified-springfield",
   "metadata": {},
   "source": [
    "**Step 3:** Plot/visualize the average pattern per cluster"
   ]
  },
  {
   "cell_type": "code",
   "execution_count": null,
   "id": "major-suspect",
   "metadata": {},
   "outputs": [],
   "source": [
    "df_REFIT_resampled_c[\"Labels\"] = labels\n",
    "Cx = []\n",
    "\n",
    "for i in range(1, n_clusters + 1):\n",
    "    Cx.append(f\"C\" + str(i))\n",
    "    globals()[\"C\" + str(i)] = (df_REFIT_resampled_c.loc[df_REFIT_resampled_c[\"Labels\"] == i]).mean(axis=0)\n",
    "    globals()[\"C\" + str(i)] = globals()[\"C\" + str(i)].reset_index()\n",
    "    globals()[\"C\" + str(i)].drop(\"level_0\", axis=1, inplace=True)\n",
    "    globals()[\"C\" + str(i)].drop(globals()[\"C\" + str(i)].tail(1).index, inplace=True)\n",
    "    globals()[\"C\" + str(i)][\"Time\"] = globals()[\"C\" + str(i)][\"Time\"].astype(\"str\")\n",
    "    globals()[\"C\" + str(i)][\"Time\"] = pd.to_datetime(globals()[\"C\" + str(i)][\"Time\"])\n",
    "    globals()[\"C\" + str(i)] = globals()[\"C\" + str(i)].set_index(\"Time\")\n",
    "    globals()[\"C\" + str(i)].index = globals()[\"C\" + str(i)].index.strftime(\"%H:%M:%S\")\n",
    "    globals()[\"C\" + str(i)] = globals()[\"C\" + str(i)].rename(columns={0: \"Aggregate\"})\n",
    "\n",
    "fig, ax = plt.subplots()\n",
    "for i in range(1, n_clusters + 1):\n",
    "    globals()[\"C\" + str(i)].plot(ax=ax, color=colors[i - 1])\n",
    "\n",
    "ax.set_xlabel(\"Time\")\n",
    "ax.set_ylabel(\"Aggregate Power Consumption (Watts)\")\n",
    "ax.set_xlim(left=0, right=95)\n",
    "plt.legend([*Cx], loc=\"best\", fontsize=18)\n",
    "plt.setp(ax.get_xticklabels(), ha=\"right\", rotation=60)\n",
    "plt.tight_layout()\n",
    "plt.show()"
   ]
  },
  {
   "cell_type": "code",
   "execution_count": null,
   "id": "incomplete-associate",
   "metadata": {},
   "outputs": [],
   "source": [
    "df_REFIT_resampled_c.insert(0, \"Month_name\", df_REFIT_resampled_c.index.month_name())"
   ]
  },
  {
   "cell_type": "code",
   "execution_count": null,
   "id": "weighted-reflection",
   "metadata": {},
   "outputs": [],
   "source": [
    "ax = sns.countplot(\n",
    "    x=\"Month_name\",\n",
    "    hue=\"Labels\",\n",
    "    data=df_REFIT_resampled_c,\n",
    "    palette=colors,\n",
    "    order=[\"January\", \"February\", \"March\", \"April\", \"May\", \"June\", \"July\", \"August\", \"September\", \"October\", \"November\", \"December\"],\n",
    ")\n",
    "\n",
    "plt.setp(ax.get_xticklabels(), ha=\"right\", rotation=60)\n",
    "plt.xlabel(\"Month\")\n",
    "plt.ylabel(\"Count\")\n",
    "plt.tight_layout()\n",
    "plt.show()"
   ]
  },
  {
   "cell_type": "code",
   "execution_count": null,
   "id": "continuous-proxy",
   "metadata": {},
   "outputs": [],
   "source": [
    "df_REFIT_resampled_c.insert(0, \"Day_name\", df_REFIT_resampled_c.index.day_name())"
   ]
  },
  {
   "cell_type": "code",
   "execution_count": null,
   "id": "cooperative-thermal",
   "metadata": {},
   "outputs": [],
   "source": [
    "ax = sns.countplot(\n",
    "    x=\"Day_name\",\n",
    "    hue=\"Labels\",\n",
    "    data=df_REFIT_resampled_c,\n",
    "    palette=colors,\n",
    "    order=[\"Monday\", \"Tuesday\", \"Wednesday\", \"Thursday\", \"Friday\", \"Saturday\", \"Sunday\"],\n",
    ")\n",
    "\n",
    "plt.setp(ax.get_xticklabels(), ha=\"right\", rotation=60)\n",
    "plt.xlabel(\"Day\")\n",
    "plt.ylabel(\"Count\")\n",
    "plt.tight_layout()\n",
    "plt.show()"
   ]
  },
  {
   "cell_type": "code",
   "execution_count": null,
   "id": "inner-relations",
   "metadata": {},
   "outputs": [],
   "source": [
    "# C1_Merge = df_REFIT_resampled_c.loc[df_REFIT_resampled_c[\"Labels\"] == 2].copy()\n",
    "# C1_Merge = C1_Merge.stack().reset_index()\n",
    "# C1_Merge[\"Date\"] = C1_Merge[\"Date\"].astype(\"str\")\n",
    "# C1_Merge[\"Time\"] = C1_Merge[\"Time\"].astype(\"str\")\n",
    "# C1_Merge[\"DT\"] = C1_Merge[\"Date\"].str.cat(C1_Merge[\"Time\"], sep=\" \")\n",
    "\n",
    "# cols_NA = [\n",
    "#     \"Date\",\n",
    "#     \"Time\",\n",
    "#     \"Labels\",\n",
    "# ]\n",
    "\n",
    "# C1_Merge.drop(cols_NA, axis=1, inplace=True)\n",
    "# C1_Merge[\"DT\"] = pd.to_datetime(C1_Merge[\"DT\"])\n",
    "# C1_Merge = C1_Merge.set_index(\"DT\")\n",
    "# Test = df_Merged.loc[C1_Merge.index]"
   ]
  },
  {
   "cell_type": "code",
   "execution_count": null,
   "id": "boring-sheriff",
   "metadata": {},
   "outputs": [],
   "source": [
    "# Test.insert(0, \"Month_name\", Test.index.month_name())\n",
    "\n",
    "# ax = sns.countplot(\n",
    "#     x=Test[\"Month_name\"],\n",
    "#     data=Test,\n",
    "#     palette=\"icefire\",\n",
    "#     order=[\"January\", \"February\", \"March\", \"April\", \"May\", \"June\", \"July\", \"August\", \"September\", \"October\", \"November\", \"December\"],\n",
    "# )\n",
    "\n",
    "# plt.setp(ax.get_xticklabels(), ha=\"right\", rotation=60)\n",
    "# plt.xlabel(\"Month\")\n",
    "# plt.ylabel(\"Count\")\n",
    "# plt.tight_layout()\n",
    "# plt.show()"
   ]
  },
  {
   "cell_type": "markdown",
   "id": "declared-attendance",
   "metadata": {
    "heading_collapsed": "true",
    "tags": []
   },
   "source": [
    "# Part 4: Forecasting <a id=\"Part4_REFIT\"> </a>"
   ]
  },
  {
   "cell_type": "markdown",
   "id": "portable-coupon",
   "metadata": {
    "heading_collapsed": "true",
    "tags": []
   },
   "source": [
    "# Appendix"
   ]
  },
  {
   "cell_type": "markdown",
   "id": "institutional-services",
   "metadata": {
    "heading_collapsed": "true",
    "tags": []
   },
   "source": [
    "## Miscellaneous functions"
   ]
  },
  {
   "cell_type": "markdown",
   "id": "random-pillow",
   "metadata": {
    "heading_collapsed": "true",
    "tags": []
   },
   "source": [
    "### 1) Augmented Dickey–Fuller test"
   ]
  },
  {
   "cell_type": "code",
   "execution_count": null,
   "id": "identified-rochester",
   "metadata": {},
   "outputs": [],
   "source": [
    "def adfuller_test(series, signif=0.05, name=\"\"):\n",
    "    r = adfuller(series, autolag=\"AIC\")\n",
    "    output = {\"test_statistic\": round(r[0], 4), \"pvalue\": round(r[1], 4), \"n_lags\": round(r[2], 4), \"n_obs\": r[3]}\n",
    "    p_value = output[\"pvalue\"]\n",
    "\n",
    "    def adjust(val, length=6):\n",
    "        return str(val).ljust(length)\n",
    "\n",
    "    print(f'      Augmented Dickey-Fuller Test on \"{name}\"', \"\\n   \", \"-\" * 47)\n",
    "    print(f\" Null Hypothesis: Data has unit root. Non-Stationary.\")\n",
    "    print(f\" Significance Level    = {signif}\")\n",
    "    print(f' Test Statistic        = {output[\"test_statistic\"]}')\n",
    "    print(f' No. Lags Chosen       = {output[\"n_lags\"]}')\n",
    "\n",
    "    for key, val in r[4].items():\n",
    "        print(f\" Critical value {adjust(key)} = {round(val, 3)}\")\n",
    "    if p_value <= signif:\n",
    "        print(f\" => P-Value = {p_value}. Rejecting Null Hypothesis.\")\n",
    "        print(f\" => Series is Stationary.\")\n",
    "    else:\n",
    "        print(f\" => P-Value = {p_value}. Weak evidence to reject the Null Hypothesis.\")\n",
    "        print(f\" => Series is Non-Stationary.\")"
   ]
  },
  {
   "cell_type": "markdown",
   "id": "veterinary-thermal",
   "metadata": {
    "heading_collapsed": "true",
    "tags": []
   },
   "source": [
    "### 2) Augmented Dickey–Fuller test w/plot"
   ]
  },
  {
   "cell_type": "code",
   "execution_count": null,
   "id": "analyzed-start",
   "metadata": {},
   "outputs": [],
   "source": [
    "def test_stationarity(series, signif=0.05, name=\"\", ylabel=\"\"):\n",
    "    def adjust(val, length=6):\n",
    "        return str(val).ljust(length)\n",
    "\n",
    "    rolmean = series.rolling(12).mean()\n",
    "    rolstd = series.rolling(12).std()\n",
    "\n",
    "    fig, ax = plt.subplots()\n",
    "\n",
    "    series.plot(ax=ax, alpha=0.5)\n",
    "    rolmean.plot(ax=ax, alpha=0.7)\n",
    "    rolstd.plot(ax=ax, alpha=0.7)\n",
    "\n",
    "    ax.set_xlabel(\"\")\n",
    "    ax.set_ylabel(ylabel)\n",
    "    ax.set_xlim(left=0, right=len(series))\n",
    "    plt.legend(loc=\"best\")\n",
    "    plt.title(\"Rolling Mean & Standard Deviation\")\n",
    "    plt.setp(ax.get_xticklabels(), ha=\"right\", rotation=60)\n",
    "\n",
    "    leg = plt.legend()\n",
    "    leg.get_texts()[0].set_text(name)\n",
    "    leg.get_texts()[1].set_text(\"Rolling Mean\")\n",
    "    leg.get_texts()[2].set_text(\"Rolling STD\")\n",
    "\n",
    "    plt.tight_layout()\n",
    "    plt.show(block=False)\n",
    "\n",
    "    adfuller_test(series, 0.05, name)"
   ]
  },
  {
   "cell_type": "markdown",
   "id": "irish-japan",
   "metadata": {
    "heading_collapsed": "true",
    "tags": []
   },
   "source": [
    "### 3) Granger Causality test"
   ]
  },
  {
   "cell_type": "code",
   "execution_count": null,
   "id": "desirable-interval",
   "metadata": {},
   "outputs": [],
   "source": [
    "def grangers_causation_matrix(data, variables, test=\"ssr_chi2test\", maxlag=12, verbose=False):\n",
    "    df = pd.DataFrame(np.zeros((len(variables), len(variables))), columns=variables, index=variables)\n",
    "    for c in df.columns:\n",
    "        for r in df.index:\n",
    "            test_result = grangercausalitytests(data[[r, c]], maxlag=maxlag, verbose=False)\n",
    "            p_values = ([round(test_result[i + 1][0][test][1], 2) for i in range(maxlag)])\n",
    "            if verbose:\n",
    "                print(f\"Y = {r}, X = {c}, P Values = {p_values}\")\n",
    "            min_p_value = np.min(p_values)\n",
    "            df.loc[r, c] = min_p_value\n",
    "    df.columns = [var + \"_x\" for var in variables]\n",
    "    df.index = [var + \"_y\" for var in variables]\n",
    "    return df"
   ]
  },
  {
   "cell_type": "markdown",
   "id": "assisted-semiconductor",
   "metadata": {
    "heading_collapsed": "true",
    "tags": []
   },
   "source": [
    "### 4) Determine which highly correlated independent variables have a stronger correlation with our target variable."
   ]
  },
  {
   "cell_type": "code",
   "execution_count": null,
   "id": "commercial-world",
   "metadata": {},
   "outputs": [],
   "source": [
    "def correlation(df, threshold, target_variable):\n",
    "    col_corr = set()\n",
    "    corr_matrix = df.corr()\n",
    "    for i in range(len(corr_matrix.columns)):\n",
    "        for j in range(i):\n",
    "            if abs(corr_matrix.iloc[i, j]) > threshold:\n",
    "                colname = corr_matrix.columns[i]\n",
    "                rowname = corr_matrix.index[j]\n",
    "                cor1 = abs(df[colname].corr(target_variable))\n",
    "                cor2 = abs(df[rowname].corr(target_variable))\n",
    "                if  cor1 > cor2:\n",
    "                    col_corr.add(corr_matrix.index[j])\n",
    "                else:\n",
    "                    col_corr.add(corr_matrix.columns[i])\n",
    "    return col_corr"
   ]
  },
  {
   "cell_type": "markdown",
   "id": "running-knitting",
   "metadata": {
    "heading_collapsed": "true",
    "tags": []
   },
   "source": [
    "### 5) Reshape correlation matrix"
   ]
  },
  {
   "cell_type": "code",
   "execution_count": null,
   "id": "departmental-catering",
   "metadata": {},
   "outputs": [],
   "source": [
    "def reshape_corr(df):\n",
    "    df_corr = df.corr().stack().reset_index()\n",
    "    df_corr.columns = [\"Feature 1\", \"Feature 2\", \"Correlation\"]\n",
    "    mask_dups = (df_corr[[\"Feature 1\", \"Feature 2\"]].apply(frozenset, axis=1).duplicated()) | (df_corr[\"Feature 1\"] == df_corr[\"Feature 2\"])\n",
    "    df_corr = df_corr[~mask_dups]\n",
    "\n",
    "    return df_corr"
   ]
  },
  {
   "cell_type": "markdown",
   "id": "centered-monkey",
   "metadata": {
    "heading_collapsed": "true",
    "tags": []
   },
   "source": [
    "### 6) tSNE modifications"
   ]
  },
  {
   "cell_type": "code",
   "execution_count": null,
   "id": "electrical-knowing",
   "metadata": {},
   "outputs": [],
   "source": [
    "def scatter(x):\n",
    "    # We choose a color palette with seaborn.\n",
    "    palette = np.array(sns.color_palette(\"hls\", 10))\n",
    "\n",
    "    # We create a scatter plot.\n",
    "    f = plt.figure(figsize=(8, 8))\n",
    "    ax = plt.subplot(aspect='equal')\n",
    "    sc = ax.scatter(x[:, 0], x[:, 1], lw=0, s=40)\n",
    "    plt.xlim(-25, 25)\n",
    "    plt.ylim(-25, 25)\n",
    "    ax.axis('off')\n",
    "    ax.axis('tight')\n",
    "\n",
    "    return f, ax, sc\n",
    "\n",
    "def _gradient_descent(objective, p0, it, n_iter, n_iter_without_progress=30,\n",
    "                      momentum=0.5, learning_rate=1000.0, min_gain=0.01,\n",
    "                      min_grad_norm=1e-7, min_error_diff=1e-7, n_iter_check=1, verbose=0,\n",
    "                      args=[], kwargs=None):\n",
    "    # The documentation of this function can be found in scikit-learn's code.\n",
    "    p = p0.copy().ravel()\n",
    "    update = np.zeros_like(p)\n",
    "    gains = np.ones_like(p)\n",
    "    error = np.finfo(np.float).max\n",
    "    best_error = np.finfo(np.float).max\n",
    "    best_iter = 0\n",
    "\n",
    "    for i in range(it, n_iter):\n",
    "        # We save the current position.\n",
    "        positions.append(p.copy())\n",
    "\n",
    "        new_error, grad = objective(p, *args)\n",
    "        error_diff = np.abs(new_error - error)\n",
    "        error = new_error\n",
    "        grad_norm = linalg.norm(grad)\n",
    "\n",
    "        if error < best_error:\n",
    "            best_error = error\n",
    "            best_iter = i\n",
    "        elif i - best_iter > n_iter_without_progress:\n",
    "            break\n",
    "        if min_grad_norm >= grad_norm:\n",
    "            break\n",
    "        if min_error_diff >= error_diff:\n",
    "            break\n",
    "\n",
    "        inc = update * grad >= 0.0\n",
    "        dec = np.invert(inc)\n",
    "        gains[inc] += 0.05\n",
    "        gains[dec] *= 0.95\n",
    "        np.clip(gains, min_gain, np.inf)\n",
    "        grad *= gains\n",
    "        update = momentum * update - learning_rate * grad\n",
    "        p += update\n",
    "\n",
    "    return p, error, i\n",
    "\n",
    "sklearn.manifold._t_sne._gradient_descent = _gradient_descent\n",
    "\n",
    "def make_frame_mpl(t):\n",
    "    i = int(t * 40)\n",
    "    x = X_iter[..., i]\n",
    "    sc.set_offsets(x)\n",
    "    return mplfig_to_npimage(f)"
   ]
  },
  {
   "cell_type": "markdown",
   "id": "simple-intersection",
   "metadata": {
    "tags": []
   },
   "source": [
    "### 7) Funky 2D/3D Plotly figures."
   ]
  },
  {
   "cell_type": "code",
   "execution_count": null,
   "id": "fifty-operations",
   "metadata": {},
   "outputs": [],
   "source": [
    "def plot_3d(component1, component2, component3):\n",
    "    fig = go.Figure(\n",
    "        data=[\n",
    "            go.Scatter3d(\n",
    "                x=component1,\n",
    "                y=component2,\n",
    "                z=component3,\n",
    "                mode=\"markers\",\n",
    "                marker=dict(size=10, opacity=1, line_width=1),\n",
    "            )\n",
    "        ]\n",
    "    )\n",
    "    fig.update_layout(margin=dict(l=50, r=50, b=50, t=50))\n",
    "    fig.layout.template = \"plotly_dark\"\n",
    "    fig.show()\n",
    "\n",
    "\n",
    "def plot_2d(component1, component2):\n",
    "    fig = go.Figure(\n",
    "        data=go.Scatter(\n",
    "            x=component1,\n",
    "            y=component2,\n",
    "            mode=\"markers\",\n",
    "            marker=dict(size=20, showscale=True, line_width=1),\n",
    "        )\n",
    "    )\n",
    "    fig.update_layout(margin=dict(l=100, r=100, b=100, t=100))\n",
    "    fig.layout.template = \"plotly_dark\"\n",
    "    fig.show()"
   ]
  }
 ],
 "metadata": {
  "kernelspec": {
   "display_name": "Python 3",
   "language": "python",
   "name": "python3"
  },
  "language_info": {
   "codemirror_mode": {
    "name": "ipython",
    "version": 3
   },
   "file_extension": ".py",
   "mimetype": "text/x-python",
   "name": "python",
   "nbconvert_exporter": "python",
   "pygments_lexer": "ipython3",
   "version": "3.8.8"
  },
  "toc-autonumbering": false,
  "toc-showcode": false,
  "toc-showmarkdowntxt": false,
  "toc-showtags": false
 },
 "nbformat": 4,
 "nbformat_minor": 5
}
